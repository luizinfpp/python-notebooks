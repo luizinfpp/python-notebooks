{
  "nbformat": 4,
  "nbformat_minor": 0,
  "metadata": {
    "colab": {
      "provenance": [],
      "mount_file_id": "1rCTIGaaeDLxtGNZfkFzx_CuJM-3GdJDU",
      "authorship_tag": "ABX9TyOgiFxoPJwfCXIVzK6oKFWU",
      "include_colab_link": true
    },
    "kernelspec": {
      "name": "python3",
      "display_name": "Python 3"
    },
    "language_info": {
      "name": "python"
    }
  },
  "cells": [
    {
      "cell_type": "markdown",
      "metadata": {
        "id": "view-in-github",
        "colab_type": "text"
      },
      "source": [
        "<a href=\"https://colab.research.google.com/github/luizinfpp/python-notebooks/blob/sentiment-analysis/sentiment_analysis.ipynb\" target=\"_parent\"><img src=\"https://colab.research.google.com/assets/colab-badge.svg\" alt=\"Open In Colab\"/></a>"
      ]
    },
    {
      "cell_type": "markdown",
      "source": [
        "#Libraries"
      ],
      "metadata": {
        "id": "DqFTu5cwNhcM"
      }
    },
    {
      "cell_type": "code",
      "execution_count": 1,
      "metadata": {
        "id": "H1x8pMwZJRLt"
      },
      "outputs": [],
      "source": [
        "import pandas as pd\n",
        "from sklearn.feature_extraction.text import CountVectorizer"
      ]
    },
    {
      "cell_type": "markdown",
      "source": [
        "#Gathering data"
      ],
      "metadata": {
        "id": "TtjxtC3YFwR7"
      }
    },
    {
      "cell_type": "code",
      "source": [
        "data_neg = pd.read_csv(\"/content/drive/MyDrive/Colab Notebooks/sentiment/neg_tweets.txt\", header=None)\n",
        "data_pos = pd.read_csv(\"/content/drive/MyDrive/Colab Notebooks/sentiment/pos_tweets.txt\", header=None)"
      ],
      "metadata": {
        "id": "1b0buG85F1JL"
      },
      "execution_count": 2,
      "outputs": []
    },
    {
      "cell_type": "code",
      "source": [
        "data_neg = data_neg.rename(columns={0: 'tweet'})\n",
        "data_pos = data_pos.rename(columns={0: 'tweet'})"
      ],
      "metadata": {
        "id": "IG_9XeJ7JgVL"
      },
      "execution_count": 3,
      "outputs": []
    },
    {
      "cell_type": "code",
      "source": [
        "data_neg[\"label\"] = \"neg\"\n",
        "data_pos[\"label\"] = \"pos\""
      ],
      "metadata": {
        "id": "0oym4jQ3KXXY"
      },
      "execution_count": 4,
      "outputs": []
    },
    {
      "cell_type": "code",
      "source": [
        "data_train = pd.concat([data_neg, data_pos])\n",
        "data_train = data_train.reset_index(drop=True)"
      ],
      "metadata": {
        "id": "jGstY_wyLfFH"
      },
      "execution_count": 5,
      "outputs": []
    },
    {
      "cell_type": "markdown",
      "source": [
        "#Modelling"
      ],
      "metadata": {
        "id": "F1LrGPEPM2jb"
      }
    },
    {
      "cell_type": "code",
      "source": [
        "vectorizer = CountVectorizer(analyzer = 'word', lowercase = False, stop_words='english')\n",
        "features = vectorizer.fit_transform(data_train['tweet'].values)\n",
        "features_nd = features.toarray() "
      ],
      "metadata": {
        "id": "zg2w_0LeLq03"
      },
      "execution_count": 13,
      "outputs": []
    },
    {
      "cell_type": "markdown",
      "source": [
        "##Train"
      ],
      "metadata": {
        "id": "uayQ6T7fM7B7"
      }
    },
    {
      "cell_type": "code",
      "source": [
        "from sklearn.model_selection import train_test_split\n",
        "\n",
        "X_train, X_test, y_train, y_test  = train_test_split(\n",
        "        features_nd, \n",
        "        data_train['label'].values,\n",
        "        train_size=0.8, \n",
        "        random_state=1234)"
      ],
      "metadata": {
        "id": "S7p31SCeM1Js"
      },
      "execution_count": 14,
      "outputs": []
    },
    {
      "cell_type": "markdown",
      "source": [
        "##Model"
      ],
      "metadata": {
        "id": "Sx7vlLUEQohr"
      }
    },
    {
      "cell_type": "code",
      "source": [
        "from sklearn.linear_model import LogisticRegression\n",
        "log_model = LogisticRegression()\n",
        "log_model = log_model.fit(X=X_train, y=y_train)\n",
        "y_pred = log_model.predict(X_test)"
      ],
      "metadata": {
        "id": "6fTHPm3ORDZ7"
      },
      "execution_count": 15,
      "outputs": []
    },
    {
      "cell_type": "markdown",
      "source": [
        "##Accuracy"
      ],
      "metadata": {
        "id": "kkRkU7PtRfqj"
      }
    },
    {
      "cell_type": "code",
      "source": [
        "from sklearn.metrics import accuracy_score\n",
        "print(accuracy_score(y_test, y_pred))"
      ],
      "metadata": {
        "id": "9pu0whyKRO9b",
        "colab": {
          "base_uri": "https://localhost:8080/"
        },
        "outputId": "719644d3-b22f-4fa1-aefd-4d579ae04884"
      },
      "execution_count": 16,
      "outputs": [
        {
          "output_type": "stream",
          "name": "stdout",
          "text": [
            "0.78\n"
          ]
        }
      ]
    },
    {
      "cell_type": "markdown",
      "source": [
        "#With NLTK"
      ],
      "metadata": {
        "id": "V2MOQa_gFwIp"
      }
    },
    {
      "cell_type": "code",
      "source": [
        "import nltk\n",
        "\n",
        "def tokenize(str):\n",
        "    return({word: True for word in nltk.word_tokenize(str)})"
      ],
      "metadata": {
        "id": "aUsahUu5Fy7-"
      },
      "execution_count": 17,
      "outputs": []
    },
    {
      "cell_type": "code",
      "source": [
        "nltk.download('punkt')\n",
        "data_all_nltk = []\n",
        "\n",
        "for index, row in data_train.iterrows():\n",
        "    data_all_nltk.append([tokenize(row['tweet']),row['label']])"
      ],
      "metadata": {
        "colab": {
          "base_uri": "https://localhost:8080/"
        },
        "id": "1ZOQ4CwTGFdu",
        "outputId": "bbda8c04-58b8-4800-8db5-384833fba624"
      },
      "execution_count": 22,
      "outputs": [
        {
          "output_type": "stream",
          "name": "stderr",
          "text": [
            "[nltk_data] Downloading package punkt to /root/nltk_data...\n",
            "[nltk_data]   Unzipping tokenizers/punkt.zip.\n"
          ]
        }
      ]
    },
    {
      "cell_type": "code",
      "source": [
        "train_nltk = data_all_nltk[:int((.8)*len(data_all_nltk))]\n",
        "test_nltk = data_all_nltk[int((.8)*len(data_all_nltk)):]"
      ],
      "metadata": {
        "id": "mwzohbSJJg7U"
      },
      "execution_count": 24,
      "outputs": []
    },
    {
      "cell_type": "code",
      "source": [
        "from nltk.classify import NaiveBayesClassifier\n",
        "\n",
        "classifier = NaiveBayesClassifier.train(train_nltk)"
      ],
      "metadata": {
        "id": "GqZW2lh6JyW9"
      },
      "execution_count": 25,
      "outputs": []
    },
    {
      "cell_type": "code",
      "source": [
        "classifier.show_most_informative_features()"
      ],
      "metadata": {
        "id": "eojvQKF6J4VO"
      },
      "execution_count": null,
      "outputs": []
    },
    {
      "cell_type": "code",
      "source": [
        "print(classifier.classify(tokenize('Nice day')))"
      ],
      "metadata": {
        "colab": {
          "base_uri": "https://localhost:8080/"
        },
        "id": "I24AX9OSKMCW",
        "outputId": "34b2195f-3340-4367-e676-193b4988234c"
      },
      "execution_count": 27,
      "outputs": [
        {
          "output_type": "stream",
          "name": "stdout",
          "text": [
            "pos\n"
          ]
        }
      ]
    },
    {
      "cell_type": "code",
      "source": [
        "from nltk.classify.util import accuracy\n",
        "print(accuracy(classifier, test_nltk))"
      ],
      "metadata": {
        "colab": {
          "base_uri": "https://localhost:8080/"
        },
        "id": "at_uimnFKWSf",
        "outputId": "9c731ef8-3012-4089-9c27-7c3c7e71289c"
      },
      "execution_count": 28,
      "outputs": [
        {
          "output_type": "stream",
          "name": "stdout",
          "text": [
            "0.67\n"
          ]
        }
      ]
    },
    {
      "cell_type": "markdown",
      "source": [
        "#Plotting"
      ],
      "metadata": {
        "id": "xd4dzX1WL8SX"
      }
    },
    {
      "cell_type": "code",
      "source": [
        "import matplotlib.pyplot as plt\n",
        "\n",
        "plt.scatter()\n",
        "plt.show()"
      ],
      "metadata": {
        "id": "Og-3VQHWL_gl"
      },
      "execution_count": null,
      "outputs": []
    }
  ]
}