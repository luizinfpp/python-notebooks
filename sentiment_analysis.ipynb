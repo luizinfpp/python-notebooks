{
  "nbformat": 4,
  "nbformat_minor": 0,
  "metadata": {
    "colab": {
      "provenance": [],
      "mount_file_id": "1rCTIGaaeDLxtGNZfkFzx_CuJM-3GdJDU",
      "authorship_tag": "ABX9TyMsX3jK70Z6CH94321kXnp1",
      "include_colab_link": true
    },
    "kernelspec": {
      "name": "python3",
      "display_name": "Python 3"
    },
    "language_info": {
      "name": "python"
    }
  },
  "cells": [
    {
      "cell_type": "markdown",
      "metadata": {
        "id": "view-in-github",
        "colab_type": "text"
      },
      "source": [
        "<a href=\"https://colab.research.google.com/github/luizinfpp/python-notebooks/blob/sentiment-analysis/sentiment_analysis.ipynb\" target=\"_parent\"><img src=\"https://colab.research.google.com/assets/colab-badge.svg\" alt=\"Open In Colab\"/></a>"
      ]
    },
    {
      "cell_type": "markdown",
      "source": [
        "#Libraries"
      ],
      "metadata": {
        "id": "DqFTu5cwNhcM"
      }
    },
    {
      "cell_type": "code",
      "execution_count": 1,
      "metadata": {
        "id": "H1x8pMwZJRLt"
      },
      "outputs": [],
      "source": [
        "import pandas as pd\n",
        "from sklearn.feature_extraction.text import CountVectorizer"
      ]
    },
    {
      "cell_type": "markdown",
      "source": [
        "#Gathering data"
      ],
      "metadata": {
        "id": "TtjxtC3YFwR7"
      }
    },
    {
      "cell_type": "code",
      "source": [
        "data_neg = pd.read_csv(\"/content/drive/MyDrive/Colab Notebooks/sentiment/neg_tweets.txt\", header=None)\n",
        "data_pos = pd.read_csv(\"/content/drive/MyDrive/Colab Notebooks/sentiment/pos_tweets.txt\", header=None)"
      ],
      "metadata": {
        "id": "1b0buG85F1JL"
      },
      "execution_count": 2,
      "outputs": []
    },
    {
      "cell_type": "code",
      "source": [
        "data_neg = data_neg.rename(columns={0: 'tweet'})\n",
        "data_pos = data_pos.rename(columns={0: 'tweet'})"
      ],
      "metadata": {
        "id": "IG_9XeJ7JgVL"
      },
      "execution_count": 3,
      "outputs": []
    },
    {
      "cell_type": "code",
      "source": [
        "data_neg[\"label\"] = \"neg\"\n",
        "data_pos[\"label\"] = \"pos\""
      ],
      "metadata": {
        "id": "0oym4jQ3KXXY"
      },
      "execution_count": 4,
      "outputs": []
    },
    {
      "cell_type": "code",
      "source": [
        "data_train = pd.concat([data_neg.iloc[:500], data_pos.iloc[:500]])\n",
        "data_train = data_train.reset_index(drop=True)"
      ],
      "metadata": {
        "id": "jGstY_wyLfFH"
      },
      "execution_count": 5,
      "outputs": []
    },
    {
      "cell_type": "markdown",
      "source": [
        "#Modelling"
      ],
      "metadata": {
        "id": "F1LrGPEPM2jb"
      }
    },
    {
      "cell_type": "code",
      "source": [
        "vectorizer = CountVectorizer(analyzer = 'word', lowercase = False)\n",
        "features = vectorizer.fit_transform(data_train['tweet'].values)\n",
        "features_nd = features.toarray() "
      ],
      "metadata": {
        "id": "zg2w_0LeLq03"
      },
      "execution_count": 6,
      "outputs": []
    },
    {
      "cell_type": "markdown",
      "source": [
        "##Train"
      ],
      "metadata": {
        "id": "uayQ6T7fM7B7"
      }
    },
    {
      "cell_type": "code",
      "source": [
        "from sklearn.model_selection import train_test_split\n",
        "\n",
        "X_train, X_test, y_train, y_test  = train_test_split(\n",
        "        features_nd, \n",
        "        data_train['label'].values,\n",
        "        train_size=0.8, \n",
        "        random_state=1234)"
      ],
      "metadata": {
        "id": "S7p31SCeM1Js"
      },
      "execution_count": 7,
      "outputs": []
    },
    {
      "cell_type": "markdown",
      "source": [
        "##Model"
      ],
      "metadata": {
        "id": "Sx7vlLUEQohr"
      }
    },
    {
      "cell_type": "code",
      "source": [
        "from sklearn.linear_model import LogisticRegression\n",
        "log_model = LogisticRegression()\n",
        "log_model = log_model.fit(X=X_train, y=y_train)\n",
        "y_pred = log_model.predict(X_test)"
      ],
      "metadata": {
        "id": "6fTHPm3ORDZ7"
      },
      "execution_count": 8,
      "outputs": []
    },
    {
      "cell_type": "markdown",
      "source": [
        "##Accuracy"
      ],
      "metadata": {
        "id": "kkRkU7PtRfqj"
      }
    },
    {
      "cell_type": "code",
      "source": [
        "from sklearn.metrics import accuracy_score\n",
        "print(accuracy_score(y_test, y_pred))"
      ],
      "metadata": {
        "id": "9pu0whyKRO9b",
        "colab": {
          "base_uri": "https://localhost:8080/"
        },
        "outputId": "331a08e5-f1ff-4fac-e734-bac84ccfbf85"
      },
      "execution_count": 9,
      "outputs": [
        {
          "output_type": "stream",
          "name": "stdout",
          "text": [
            "0.77\n"
          ]
        }
      ]
    }
  ]
}