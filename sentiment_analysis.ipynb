{
  "nbformat": 4,
  "nbformat_minor": 0,
  "metadata": {
    "colab": {
      "provenance": [],
      "mount_file_id": "1rCTIGaaeDLxtGNZfkFzx_CuJM-3GdJDU",
      "authorship_tag": "ABX9TyM8/S+BHCSHUImrcWgPGKlw",
      "include_colab_link": true
    },
    "kernelspec": {
      "name": "python3",
      "display_name": "Python 3"
    },
    "language_info": {
      "name": "python"
    }
  },
  "cells": [
    {
      "cell_type": "markdown",
      "metadata": {
        "id": "view-in-github",
        "colab_type": "text"
      },
      "source": [
        "<a href=\"https://colab.research.google.com/github/luizinfpp/python-notebooks/blob/sentiment-analysis/sentiment_analysis.ipynb\" target=\"_parent\"><img src=\"https://colab.research.google.com/assets/colab-badge.svg\" alt=\"Open In Colab\"/></a>"
      ]
    },
    {
      "cell_type": "markdown",
      "source": [
        "#Library install"
      ],
      "metadata": {
        "id": "DqFTu5cwNhcM"
      }
    },
    {
      "cell_type": "code",
      "execution_count": 2,
      "metadata": {
        "id": "H1x8pMwZJRLt"
      },
      "outputs": [],
      "source": [
        "import pandas as pd\n",
        "from sklearn.feature_extraction.text import CountVectorizer"
      ]
    },
    {
      "cell_type": "markdown",
      "source": [
        "#Gathering data"
      ],
      "metadata": {
        "id": "TtjxtC3YFwR7"
      }
    },
    {
      "cell_type": "code",
      "source": [
        "data_neg = pd.read_csv(\"/content/drive/MyDrive/Colab Notebooks/sentiment/neg_tweets.txt\", header=None)\n",
        "data_pos = pd.read_csv(\"/content/drive/MyDrive/Colab Notebooks/sentiment/pos_tweets.txt\", header=None)"
      ],
      "metadata": {
        "id": "1b0buG85F1JL"
      },
      "execution_count": 15,
      "outputs": []
    }
  ]
}